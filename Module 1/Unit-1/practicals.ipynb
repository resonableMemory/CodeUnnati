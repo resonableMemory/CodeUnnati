{
 "cells": [
  {
   "cell_type": "markdown",
   "id": "b82a05f0",
   "metadata": {},
   "source": [
    "# Program to Conver Fahrenheit to Celsius"
   ]
  },
  {
   "cell_type": "code",
   "execution_count": 10,
   "id": "87d3ff57",
   "metadata": {},
   "outputs": [
    {
     "name": "stdout",
     "output_type": "stream",
     "text": [
      "Enter Temperature in fahrenheit: 99\n",
      "Temperature in Celsius is : 37.22°C\n"
     ]
    }
   ],
   "source": [
    "ui = int(input('Enter Temperature in fahrenheit: '))\n",
    "cel = round((ui-32)*(5/9),2)\n",
    "print(f\"Temperature in Celsius is : {cel}°C\")"
   ]
  },
  {
   "cell_type": "markdown",
   "id": "82b64afe",
   "metadata": {},
   "source": [
    "# Program to SWAP values of two variables"
   ]
  },
  {
   "cell_type": "code",
   "execution_count": null,
   "id": "52e7c9b0",
   "metadata": {},
   "outputs": [
    {
     "name": "stdout",
     "output_type": "stream",
     "text": [
      "Enter Value for First Variable: 5\n",
      "Enter Value for Second Variable: 6\n",
      "Before Swapping Values: \n",
      "First Variable: 5\n",
      "Second Variable: 6\n",
      "First Variable: 6\n",
      "Second Variable: 5\n"
     ]
    }
   ],
   "source": [
    "ui1 = input(\"Enter Value for First Variable: \")\n",
    "ui2 = input(\"Enter Value for Second Variable: \")\n",
    "print(\"Before Swapping Values: \")\n",
    "print(f\"First Variable: {ui1}\")\n",
    "print(f\"Second Variable: {ui2}\")\n",
    "temp = ui1\n",
    "ui1 = ui2\n",
    "ui2=temp\n",
    "\n",
    "print(f\"First Variable: {ui1}\")\n",
    "print(f\"Second Variable: {ui2}\")\n",
    "      "
   ]
  },
  {
   "cell_type": "markdown",
   "id": "a4c03bab",
   "metadata": {},
   "source": [
    "# Program to find distance between two points|"
   ]
  },
  {
   "cell_type": "code",
   "execution_count": null,
   "id": "1e5dea4f",
   "metadata": {},
   "outputs": [
    {
     "name": "stdout",
     "output_type": "stream",
     "text": [
      "Enter the x1 coordinates of a point4\n",
      "Enter the x2 coordinates of a point5\n",
      "Enter the y1 coordinates of a point7\n",
      "Enter the y2 coordinates of a point8\n",
      "Distance between x1=4,x2=5 and y1=7,y2=8 is 1.4142135623730951\n"
     ]
    }
   ],
   "source": [
    "x1 = int(input(\"Enter the x1 coordinates of a point: \"))\n",
    "x2 = int(input(\"Enter the x2 coordinates of a point: \"))\n",
    "y1 = int(input(\"Enter the y1 coordinates of a point: \"))\n",
    "y2 = int(input(\"Enter the y2 coordinates of a point: \"))\n",
    "result = ( ( ( (x2 - x1 )**2) + ( (y2-y1)**2) )**0.5)\n",
    "print(f\"Distance between x1={x1},x2={x2} and y1={y1},y2={y2} is {result}\")"
   ]
  },
  {
   "cell_type": "markdown",
   "id": "3ff95f00",
   "metadata": {},
   "source": [
    "# Performing Case Study on the Following Operations"
   ]
  },
  {
   "cell_type": "code",
   "execution_count": null,
   "id": "311ea7f3",
   "metadata": {},
   "outputs": [
    {
     "name": "stdout",
     "output_type": "stream",
     "text": [
      "15\n"
     ]
    }
   ],
   "source": [
    "# Maxima\n",
    "\n",
    "tuple1 = (15,2,8,9,7)\n",
    "print(max(tuple1))"
   ]
  },
  {
   "cell_type": "code",
   "execution_count": null,
   "id": "2aad3089",
   "metadata": {},
   "outputs": [
    {
     "name": "stdout",
     "output_type": "stream",
     "text": [
      "2\n"
     ]
    }
   ],
   "source": [
    "# Minima\n",
    "print(min(tuple1))"
   ]
  },
  {
   "cell_type": "code",
   "execution_count": null,
   "id": "422a40c5",
   "metadata": {},
   "outputs": [
    {
     "name": "stdout",
     "output_type": "stream",
     "text": [
      "239\n"
     ]
    }
   ],
   "source": [
    "# Sum of Two tuples\n",
    "\n",
    "t1 = (15,2,8,9,7)\n",
    "t2 = (23,65,87,23)\n",
    "print(sum(t1+t2))"
   ]
  },
  {
   "cell_type": "code",
   "execution_count": null,
   "id": "62500a70",
   "metadata": {},
   "outputs": [
    {
     "name": "stdout",
     "output_type": "stream",
     "text": [
      "(15, 2, 8, 9, 7, 15, 2, 8, 9, 7)\n"
     ]
    }
   ],
   "source": [
    "# Duplication of a tuple\n",
    "tuple3 = (15,2,8,9,7)\n",
    "print(tuple3*2)"
   ]
  },
  {
   "cell_type": "code",
   "execution_count": null,
   "id": "1131128c",
   "metadata": {},
   "outputs": [
    {
     "name": "stdout",
     "output_type": "stream",
     "text": [
      "(3, 45, 4)\n"
     ]
    }
   ],
   "source": [
    "# Slicing operation\n",
    "tup = (22, 3, 45, 4, 2.4, 2, 56, 890, 1)\n",
    "print(tup[1:4])"
   ]
  },
  {
   "cell_type": "code",
   "execution_count": null,
   "id": "25d906c6",
   "metadata": {},
   "outputs": [
    {
     "name": "stdout",
     "output_type": "stream",
     "text": [
      "[22, 3, 45, 4, 2.4, 2, 56, 890, 1]\n"
     ]
    }
   ],
   "source": [
    "# Obtaining a list from a tuple\n",
    "tup1 = (22, 3, 45, 4, 2.4, 2, 56, 890, 1)\n",
    "lt=list(tup1)\n",
    "print(lt)"
   ]
  },
  {
   "cell_type": "code",
   "execution_count": null,
   "id": "cc5e2516",
   "metadata": {},
   "outputs": [
    {
     "name": "stdout",
     "output_type": "stream",
     "text": [
      "False\n",
      "True\n",
      "False\n"
     ]
    }
   ],
   "source": [
    "# Comparing two Tuples\n",
    "t11 = (15,2,8,9,7)\n",
    "t22 = (23,65,87,23)\n",
    "print(t11==t22)\n",
    "print(t11<t22)\n",
    "print(t11>t22)"
   ]
  },
  {
   "cell_type": "code",
   "execution_count": null,
   "id": "9511ec46",
   "metadata": {},
   "outputs": [
    {
     "name": "stdout",
     "output_type": "stream",
     "text": [
      "Numeric Tuple Items =  (10, 20, 30, 40, 50)\n",
      "String Tuple Items =  ('orange', 'Mango', 'Grape', 'Apple')\n"
     ]
    }
   ],
   "source": [
    "# Printing Two tuples of different Data Types\n",
    "numericTuple = (10, 20, 30, 40, 50)\n",
    "print(\"Numeric Tuple Items = \", numericTuple )\n",
    "\n",
    "stringTuple = ('orange', 'Mango', 'Grape', 'Apple')\n",
    "print(\"String Tuple Items = \", stringTuple )"
   ]
  },
  {
   "cell_type": "markdown",
   "id": "b87f2f6b",
   "metadata": {},
   "source": [
    "# Square root of Two numbers"
   ]
  },
  {
   "cell_type": "code",
   "execution_count": null,
   "id": "7d3b6dbd",
   "metadata": {},
   "outputs": [
    {
     "name": "stdout",
     "output_type": "stream",
     "text": [
      "Enter a number: 25\n",
      "Square root of 25 is :  5.0\n",
      "Enter a number: 9\n",
      "Square root of 9 is :  3.0\n"
     ]
    }
   ],
   "source": [
    "sqr1 = int(input(\"Enter a number: \"))\n",
    "print(f\"Square root of {sqr1} is : \",sqr1**0.5)\n",
    "\n",
    "sqr2 = int(input(\"Enter a number: \"))\n",
    "print(f\"Square root of {sqr2} is : \",sqr2**0.5)"
   ]
  },
  {
   "cell_type": "markdown",
   "id": "d4ce514a",
   "metadata": {},
   "source": [
    "# find out factorial of a given number"
   ]
  },
  {
   "cell_type": "code",
   "execution_count": null,
   "id": "9cff9f81",
   "metadata": {},
   "outputs": [
    {
     "name": "stdout",
     "output_type": "stream",
     "text": [
      "Enter a number: 5\n",
      "The factorial of 5 is :  120\n"
     ]
    }
   ],
   "source": [
    "ui = int(input(\"Enter a number: \"))\n",
    "fact = 1\n",
    "for i in range(1,ui+1):\n",
    "    fact = fact * i\n",
    "\n",
    "print (f\"The factorial of {ui} is : \",fact)   "
   ]
  },
  {
   "cell_type": "markdown",
   "id": "4c1f8c1b",
   "metadata": {},
   "source": [
    "# Sum of Digits of a number"
   ]
  },
  {
   "cell_type": "code",
   "execution_count": null,
   "id": "87f38869",
   "metadata": {},
   "outputs": [
    {
     "name": "stdout",
     "output_type": "stream",
     "text": [
      "Enter a number311\n",
      "5\n"
     ]
    }
   ],
   "source": [
    "n = int(input(\"Enter a 3 digit number: \"))\n",
    "sum = 0\n",
    "while (n != 0):\n",
    "    sum = sum + int(n % 10)\n",
    "    n = int(n/10)\n",
    "print(sum)\n"
   ]
  },
  {
   "cell_type": "markdown",
   "id": "4beb28d3",
   "metadata": {},
   "source": [
    "# Reversing a given number"
   ]
  },
  {
   "cell_type": "code",
   "execution_count": null,
   "id": "57e37911",
   "metadata": {},
   "outputs": [
    {
     "name": "stdout",
     "output_type": "stream",
     "text": [
      "Enter any string or number45789\n",
      "Reverse is: \n",
      "98754\n"
     ]
    }
   ],
   "source": [
    "ui = input(\"Enter any string or number\")\n",
    "print(\"Reverse is: \")\n",
    "print(ui[::-1])"
   ]
  },
  {
   "cell_type": "markdown",
   "id": "8144bdf2",
   "metadata": {},
   "source": [
    "# Program to check if the string is palindrome or not"
   ]
  },
  {
   "cell_type": "code",
   "execution_count": null,
   "id": "ea944088",
   "metadata": {},
   "outputs": [
    {
     "name": "stdout",
     "output_type": "stream",
     "text": [
      "Its a Palindrome\n"
     ]
    }
   ],
   "source": [
    "s = \"malayalam\"\n",
    "if s==s[::-1]:\n",
    "    print(\"Its a Palindrome\")\n",
    "else:\n",
    "    print(\"Not a Palindrome\")"
   ]
  },
  {
   "cell_type": "markdown",
   "id": "630e2c40",
   "metadata": {},
   "source": [
    "# Program to print fibonaci series"
   ]
  },
  {
   "cell_type": "code",
   "execution_count": null,
   "id": "fe82ad1c",
   "metadata": {},
   "outputs": [
    {
     "name": "stdout",
     "output_type": "stream",
     "text": [
      "Enter a number: 9\n",
      "Fibonacci Series is:  34\n"
     ]
    }
   ],
   "source": [
    "\n",
    "def Fibonacci(n):\n",
    "\n",
    "    if n < 0:\n",
    "        print(\"Incorrect input\")\n",
    "\n",
    "\n",
    "    elif n == 0:\n",
    "        return 0\n",
    "\n",
    "    elif n == 1 or n == 2:\n",
    "        return 1\n",
    "\n",
    "    else:\n",
    "        return Fibonacci(n-1) + Fibonacci(n-2)\n",
    "\n",
    "\n",
    "print(\"Fibonacci Series is: \",Fibonacci(int(input(\"Enter a number: \"))))\n",
    "\n"
   ]
  },
  {
   "cell_type": "markdown",
   "id": "4c064b41",
   "metadata": {},
   "source": [
    "# Prime number for a given range"
   ]
  },
  {
   "cell_type": "code",
   "execution_count": null,
   "id": "d94725b3",
   "metadata": {},
   "outputs": [
    {
     "name": "stdout",
     "output_type": "stream",
     "text": [
      "Enter the lower value:12\n",
      "Enter the upper value:25\n",
      "13\n",
      "17\n",
      "19\n",
      "23\n"
     ]
    }
   ],
   "source": [
    "lower = int(input(\"Enter the lower value:\"))\n",
    "upper = int(input(\"Enter the upper value:\"))\n",
    "for number in range(lower,upper+1):\n",
    "    if number>1:\n",
    "        for i in range(2,number):\n",
    "            if (number%i)==0:\n",
    "                break\n",
    "        else:\n",
    "            print(number)"
   ]
  },
  {
   "cell_type": "markdown",
   "id": "61160422",
   "metadata": {},
   "source": [
    "# Program to find greatest of three numbers"
   ]
  },
  {
   "cell_type": "code",
   "execution_count": null,
   "id": "7e6fbe50",
   "metadata": {},
   "outputs": [
    {
     "name": "stdout",
     "output_type": "stream",
     "text": [
      "Enter first number: 34\n",
      "Enter second number: 76\n",
      "Enter Third number: 23\n",
      "Greatest no. is:  76\n"
     ]
    }
   ],
   "source": [
    "n1 = int(input(\"Enter first number: \"))\n",
    "n2 = int(input(\"Enter second number: \"))\n",
    "n3 = int(input(\"Enter Third number: \"))\n",
    "\n",
    "if (n1>n2 and n1>n3):\n",
    "    print(\"Greatest no. is: \",n1)\n",
    "elif (n1<n2 and n3<n2):\n",
    "    print(\"Greatest no. is: \",n2)\n",
    "else:\n",
    "    print(\"Greatest no. is: \",n3)"
   ]
  }
 ],
 "metadata": {
  "kernelspec": {
   "display_name": "Python 3.11.0 64-bit",
   "language": "python",
   "name": "python3"
  },
  "language_info": {
   "codemirror_mode": {
    "name": "ipython",
    "version": 3
   },
   "file_extension": ".py",
   "mimetype": "text/x-python",
   "name": "python",
   "nbconvert_exporter": "python",
   "pygments_lexer": "ipython3",
   "version": "3.11.0"
  },
  "vscode": {
   "interpreter": {
    "hash": "e562e3deaeb2d679c7e5986c7709f75486e6267624f159ec1ae35e32d9b3f04b"
   }
  }
 },
 "nbformat": 4,
 "nbformat_minor": 5
}
