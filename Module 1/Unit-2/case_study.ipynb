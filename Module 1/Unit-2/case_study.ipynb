{
 "cells": [
  {
   "cell_type": "code",
   "execution_count": 2,
   "id": "55695634",
   "metadata": {},
   "outputs": [],
   "source": [
    "#importing numpy library\n",
    "import numpy as np"
   ]
  },
  {
   "cell_type": "code",
   "execution_count": 3,
   "id": "a92697af",
   "metadata": {},
   "outputs": [
    {
     "data": {
      "text/plain": [
       "array([[1, 3, 3, 6],\n",
       "       [3, 5, 2, 9]])"
      ]
     },
     "execution_count": 3,
     "metadata": {},
     "output_type": "execute_result"
    }
   ],
   "source": [
    "arr = np.array([[1,3,3,6],\n",
    "               [3,5,2,9]])\n",
    "arr"
   ]
  },
  {
   "cell_type": "code",
   "execution_count": 5,
   "id": "4f3ba6a2",
   "metadata": {},
   "outputs": [
    {
     "data": {
      "text/plain": [
       "2"
      ]
     },
     "execution_count": 5,
     "metadata": {},
     "output_type": "execute_result"
    }
   ],
   "source": [
    "#Array dimension\n",
    "arr.ndim"
   ]
  },
  {
   "cell_type": "code",
   "execution_count": 6,
   "id": "78fa79de",
   "metadata": {},
   "outputs": [
    {
     "data": {
      "text/plain": [
       "(2, 4)"
      ]
     },
     "execution_count": 6,
     "metadata": {},
     "output_type": "execute_result"
    }
   ],
   "source": [
    "arr.shape"
   ]
  },
  {
   "cell_type": "code",
   "execution_count": 8,
   "id": "97de7476",
   "metadata": {},
   "outputs": [
    {
     "data": {
      "text/plain": [
       "numpy.ndarray"
      ]
     },
     "execution_count": 8,
     "metadata": {},
     "output_type": "execute_result"
    }
   ],
   "source": [
    "type(arr)"
   ]
  },
  {
   "cell_type": "code",
   "execution_count": 9,
   "id": "40dee5b1",
   "metadata": {},
   "outputs": [
    {
     "data": {
      "text/plain": [
       "8"
      ]
     },
     "execution_count": 9,
     "metadata": {},
     "output_type": "execute_result"
    }
   ],
   "source": [
    "arr.size"
   ]
  },
  {
   "cell_type": "code",
   "execution_count": 10,
   "id": "4f5360cc",
   "metadata": {},
   "outputs": [
    {
     "data": {
      "text/plain": [
       "<memory at 0x000001F5527E9380>"
      ]
     },
     "execution_count": 10,
     "metadata": {},
     "output_type": "execute_result"
    }
   ],
   "source": [
    "arr.data"
   ]
  },
  {
   "cell_type": "code",
   "execution_count": 12,
   "id": "8bdcff39",
   "metadata": {},
   "outputs": [
    {
     "data": {
      "text/plain": [
       "dtype('int32')"
      ]
     },
     "execution_count": 12,
     "metadata": {},
     "output_type": "execute_result"
    }
   ],
   "source": [
    "arr.dtype"
   ]
  },
  {
   "cell_type": "code",
   "execution_count": 13,
   "id": "a8e50ed4",
   "metadata": {},
   "outputs": [
    {
     "data": {
      "text/plain": [
       "4"
      ]
     },
     "execution_count": 13,
     "metadata": {},
     "output_type": "execute_result"
    }
   ],
   "source": [
    "arr.itemsize"
   ]
  },
  {
   "cell_type": "code",
   "execution_count": 16,
   "id": "b788f4cc",
   "metadata": {},
   "outputs": [
    {
     "data": {
      "text/plain": [
       "array([[3., 5., 6., 7.],\n",
       "       [5., 3., 2., 5.]])"
      ]
     },
     "execution_count": 16,
     "metadata": {},
     "output_type": "execute_result"
    }
   ],
   "source": [
    "arr2 = np.array([[3,5,6,7],[5,3,2,5]], dtype=np.float64)\n",
    "arr2"
   ]
  },
  {
   "cell_type": "code",
   "execution_count": 17,
   "id": "4a874c0f",
   "metadata": {},
   "outputs": [
    {
     "data": {
      "text/plain": [
       "dtype('float64')"
      ]
     },
     "execution_count": 17,
     "metadata": {},
     "output_type": "execute_result"
    }
   ],
   "source": [
    "arr2.dtype"
   ]
  },
  {
   "cell_type": "code",
   "execution_count": 18,
   "id": "23ecf275",
   "metadata": {},
   "outputs": [
    {
     "data": {
      "text/plain": [
       "8"
      ]
     },
     "execution_count": 18,
     "metadata": {},
     "output_type": "execute_result"
    }
   ],
   "source": [
    "arr2.itemsize"
   ]
  },
  {
   "cell_type": "code",
   "execution_count": 27,
   "id": "168eac5f",
   "metadata": {},
   "outputs": [
    {
     "name": "stdout",
     "output_type": "stream",
     "text": [
      "For complex64:  [[2.+0.j 4.+0.j 2.+0.j 5.+0.j]\n",
      " [4.+0.j 5.+0.j 3.+0.j 2.+0.j]]\n",
      "complex64 \n",
      "\n",
      "8 \n",
      "\n",
      "For complex128:  [[2.+0.j 4.+0.j 2.+0.j 5.+0.j]\n",
      " [4.+0.j 5.+0.j 3.+0.j 2.+0.j]]\n",
      "complex128 \n",
      "\n",
      "16 \n",
      "\n"
     ]
    }
   ],
   "source": [
    "z = np.array([[2,4,2,5],[4,5,3,2]], dtype=np.complex64)\n",
    "t = np.array([[2,4,2,5],[4,5,3,2]], dtype=np.complex128)\n",
    "print(\"For complex64: \", z)\n",
    "print(z.dtype,\"\\n\")\n",
    "print(z.itemsize,\"\\n\")\n",
    "print(\"For complex128: \", t)\n",
    "print(t.dtype,\"\\n\")\n",
    "print(t.itemsize,\"\\n\")"
   ]
  },
  {
   "cell_type": "code",
   "execution_count": 28,
   "id": "cee1dc13",
   "metadata": {},
   "outputs": [
    {
     "name": "stdout",
     "output_type": "stream",
     "text": [
      "32\n"
     ]
    }
   ],
   "source": [
    "\n",
    "arr3 = np.array([[1,3,3,6],\n",
    "               [3,5,2,9]])\n"
   ]
  },
  {
   "cell_type": "code",
   "execution_count": 37,
   "id": "49a9415b",
   "metadata": {},
   "outputs": [
    {
     "name": "stdout",
     "output_type": "stream",
     "text": [
      "[[1 3 3 6]\n",
      " [3 5 2 9]] \n",
      "\n",
      "32\n",
      "[ 4  8  5 15]\n",
      "[13 19]\n"
     ]
    }
   ],
   "source": [
    "#sum\n",
    "print(arr3,\"\\n\")\n",
    "print(np.sum(arr3))\n",
    "print(np.sum(arr3, axis=0))\n",
    "print(np.sum(arr3, axis=1))"
   ]
  },
  {
   "cell_type": "code",
   "execution_count": 38,
   "id": "2da6c1b5",
   "metadata": {},
   "outputs": [
    {
     "name": "stdout",
     "output_type": "stream",
     "text": [
      "[[1 3 3 6]\n",
      " [3 5 2 9]] \n",
      "\n",
      "1\n",
      "[1 3 2 6]\n",
      "[1 2]\n"
     ]
    }
   ],
   "source": [
    "#minimum value\n",
    "print(arr3,\"\\n\")\n",
    "print(np.amin(arr3))\n",
    "print(np.amin(arr3, axis=0))\n",
    "print(np.amin(arr3, axis=1))"
   ]
  },
  {
   "cell_type": "code",
   "execution_count": 39,
   "id": "2eb35043",
   "metadata": {},
   "outputs": [
    {
     "name": "stdout",
     "output_type": "stream",
     "text": [
      "[[1 3 3 6]\n",
      " [3 5 2 9]] \n",
      "\n",
      "9\n",
      "[3 5 3 9]\n",
      "[6 9]\n"
     ]
    }
   ],
   "source": [
    "#maximum value\n",
    "print(arr3,\"\\n\")\n",
    "print(np.amax(arr3))\n",
    "print(np.amax(arr3, axis=0))\n",
    "print(np.amax(arr3, axis=1))"
   ]
  },
  {
   "cell_type": "code",
   "execution_count": 40,
   "id": "e33006c2",
   "metadata": {},
   "outputs": [
    {
     "name": "stdout",
     "output_type": "stream",
     "text": [
      "[[1 3 3 6]\n",
      " [3 5 2 9]] \n",
      "\n",
      "Mean:  1\n",
      "[2.  4.  2.5 7.5]\n",
      "[3.25 4.75]\n"
     ]
    }
   ],
   "source": [
    "#mean\n",
    "print(arr3,\"\\n\")\n",
    "print(\"Mean: \", np.min(arr3))\n",
    "print(np.mean(arr3, axis=0))\n",
    "print(np.mean(arr3, axis=1))"
   ]
  },
  {
   "cell_type": "code",
   "execution_count": 42,
   "id": "a39ebe13",
   "metadata": {},
   "outputs": [
    {
     "name": "stdout",
     "output_type": "stream",
     "text": [
      "[[1 3 3 6]\n",
      " [3 5 2 9]] \n",
      "\n",
      "Median:  3.0\n",
      "[2.  4.  2.5 7.5]\n",
      "[3. 4.]\n"
     ]
    }
   ],
   "source": [
    "#median\n",
    "print(arr3,\"\\n\")\n",
    "print(\"Median: \", np.median(arr3))\n",
    "print(np.median(arr3, axis=0))\n",
    "print(np.median(arr3, axis=1))"
   ]
  },
  {
   "cell_type": "code",
   "execution_count": 44,
   "id": "9b349f6c",
   "metadata": {},
   "outputs": [
    {
     "name": "stdout",
     "output_type": "stream",
     "text": [
      "[[1 3 3 6]\n",
      " [3 5 2 9]] \n",
      "\n",
      "Standard Deviation:  2.3979157616563596\n",
      "[1.  1.  0.5 1.5]\n",
      "[1.78535711 2.68095132]\n"
     ]
    }
   ],
   "source": [
    "#Standard Deviation\n",
    "print(arr3,\"\\n\")\n",
    "print(\"Standard Deviation: \", np.std(arr3))\n",
    "print(np.std(arr3, axis=0))\n",
    "print(np.std(arr3, axis=1))"
   ]
  },
  {
   "cell_type": "code",
   "execution_count": 45,
   "id": "3104d31c",
   "metadata": {},
   "outputs": [
    {
     "name": "stdout",
     "output_type": "stream",
     "text": [
      "[[1 3 3 6]\n",
      " [3 5 2 9]] \n",
      "\n",
      "Variance:  5.75\n",
      "[1.   1.   0.25 2.25]\n",
      "[3.1875 7.1875]\n"
     ]
    }
   ],
   "source": [
    "#Variance\n",
    "print(arr3,\"\\n\")\n",
    "print(\"Variance: \", np.var(arr3))\n",
    "print(np.var(arr3, axis=0))\n",
    "print(np.var(arr3, axis=1))"
   ]
  },
  {
   "cell_type": "code",
   "execution_count": 47,
   "id": "d32d54ff",
   "metadata": {},
   "outputs": [
    {
     "name": "stdout",
     "output_type": "stream",
     "text": [
      "4.0\n"
     ]
    }
   ],
   "source": [
    "#Weighted Average\n",
    "print(np.average(arr3)) ## Average Without explicit weights"
   ]
  },
  {
   "cell_type": "code",
   "execution_count": 48,
   "id": "f037a7d4",
   "metadata": {},
   "outputs": [
    {
     "name": "stdout",
     "output_type": "stream",
     "text": [
      "[ 2  4  6  8 10 12  7  9 11]\n"
     ]
    }
   ],
   "source": [
    "c = np.array([2,4,6,8,10,12,7,9,11])\n",
    "print(c)"
   ]
  },
  {
   "cell_type": "code",
   "execution_count": 50,
   "id": "a702ce97",
   "metadata": {},
   "outputs": [
    {
     "name": "stdout",
     "output_type": "stream",
     "text": [
      "7.846153846153846\n"
     ]
    }
   ],
   "source": [
    "weight = np.array([0.25,0.5,0.25,0.5,0.25,0.5,0.25,0.5,0.25]) # Average with Weight\n",
    "print(np.average(c, weights=weight))"
   ]
  },
  {
   "cell_type": "code",
   "execution_count": 53,
   "id": "83037f79",
   "metadata": {},
   "outputs": [
    {
     "name": "stdout",
     "output_type": "stream",
     "text": [
      "[ 2  4  6  8 10 12  7  9 11] \n",
      "\n",
      "2.8\n",
      "3.2800000000000002\n",
      "[1.3  2.15]\n"
     ]
    }
   ],
   "source": [
    "#percentile\n",
    "print(c,\"\\n\")\n",
    "print(np.percentile(c,5,0))\n",
    "print(np.percentile(c,8,0))\n",
    "print(np.percentile(arr3,5,1))"
   ]
  },
  {
   "cell_type": "code",
   "execution_count": 61,
   "id": "1efd38ae",
   "metadata": {},
   "outputs": [
    {
     "name": "stdout",
     "output_type": "stream",
     "text": [
      "[ 2  4  6  8 10 12  7  9 11]\n",
      "10 \n",
      "\n",
      "[[1 3 3 6]\n",
      " [3 5 2 9]]\n",
      "[2 2 1 3]\n",
      "[5 7]\n"
     ]
    }
   ],
   "source": [
    "#peak to peak(MAX VALUE - MIN VALUE)\n",
    "print(c)\n",
    "print(np.ptp(c,0), \"\\n\")\n",
    "\n",
    "print(arr3)\n",
    "print(np.ptp(arr3,0))\n",
    "print(np.ptp(arr3,1))"
   ]
  },
  {
   "cell_type": "code",
   "execution_count": 67,
   "id": "56160c82",
   "metadata": {},
   "outputs": [
    {
     "name": "stdout",
     "output_type": "stream",
     "text": [
      "[[1 3 3 6]\n",
      " [3 5 2 9]] \n",
      "\n",
      "[[1 2 3 4 3 5 5 3 2]] \n",
      "\n",
      "[[1 3 3 6]\n",
      " [3 5 2 9]]\n"
     ]
    }
   ],
   "source": [
    "#Reshape\n",
    "arr4 = np.array([[1,2,3],[4,3,5],[5,3,2]])\n",
    "print(arr3,\"\\n\")\n",
    "print(arr4.reshape(1,9), \"\\n\")\n",
    "print(arr3)"
   ]
  },
  {
   "cell_type": "code",
   "execution_count": 70,
   "id": "548df2f0",
   "metadata": {},
   "outputs": [
    {
     "name": "stdout",
     "output_type": "stream",
     "text": [
      "[[23 25 27 29]\n",
      " [43 45 47 49]\n",
      " [62 66 68 70]] \n",
      "\n",
      "29 \n",
      "\n",
      "47 \n",
      "\n",
      "70 \n",
      "\n",
      "25 \n",
      "\n",
      "[25 45] \n",
      "\n",
      "[62 66 68 70] \n",
      "\n",
      "[62 66] \n",
      "\n"
     ]
    }
   ],
   "source": [
    "#Slicing 2D Array\n",
    "l = np.array([[23,25,27,29],[43,45,47,49],[62,66,68,70]])\n",
    "print(l,\"\\n\")\n",
    "print(l[0,3],\"\\n\")\n",
    "print(l[1,2],\"\\n\")\n",
    "print(l[2,3],\"\\n\")\n",
    "print(l[0,1],\"\\n\")\n",
    "print(l[0:2,1],\"\\n\")\n",
    "print(l[-1],\"\\n\")\n",
    "print(l[-1,0:2],\"\\n\")"
   ]
  },
  {
   "cell_type": "markdown",
   "id": "1f18f3d5",
   "metadata": {},
   "source": [
    "## Stacking"
   ]
  },
  {
   "cell_type": "code",
   "execution_count": 74,
   "id": "c9db893f",
   "metadata": {},
   "outputs": [
    {
     "name": "stdout",
     "output_type": "stream",
     "text": [
      "[[ 0  1  2  3]\n",
      " [ 4  5  6  7]\n",
      " [ 8  9 10 11]] \n",
      "\n",
      "[[12 13 14 15]\n",
      " [16 17 18 19]\n",
      " [20 21 22 23]] \n",
      "\n"
     ]
    }
   ],
   "source": [
    "d = np.arange(12).reshape(3,4)\n",
    "print(d,\"\\n\")\n",
    "f = np.arange(12,24).reshape(3,4)\n",
    "print(f,\"\\n\")"
   ]
  },
  {
   "cell_type": "code",
   "execution_count": 76,
   "id": "f73b465b",
   "metadata": {},
   "outputs": [
    {
     "name": "stdout",
     "output_type": "stream",
     "text": [
      "[[ 0  1  2  3]\n",
      " [ 4  5  6  7]\n",
      " [ 8  9 10 11]] \n",
      "\n",
      "[[12 13 14 15]\n",
      " [16 17 18 19]\n",
      " [20 21 22 23]] \n",
      "\n",
      "[[ 0  1  2  3 12 13 14 15]\n",
      " [ 4  5  6  7 16 17 18 19]\n",
      " [ 8  9 10 11 20 21 22 23]] \n",
      "\n",
      "[[12 13 14 15  0  1  2  3]\n",
      " [16 17 18 19  4  5  6  7]\n",
      " [20 21 22 23  8  9 10 11]] \n",
      "\n"
     ]
    }
   ],
   "source": [
    "print(d,\"\\n\")\n",
    "print(f,\"\\n\")\n",
    "print(np.hstack((d,f)),'\\n')\n",
    "print(np.hstack((f,d)),'\\n')"
   ]
  },
  {
   "cell_type": "code",
   "execution_count": 77,
   "id": "dc5432a3",
   "metadata": {},
   "outputs": [
    {
     "name": "stdout",
     "output_type": "stream",
     "text": [
      "[[ 0  1  2  3]\n",
      " [ 4  5  6  7]\n",
      " [ 8  9 10 11]\n",
      " [12 13 14 15]\n",
      " [16 17 18 19]\n",
      " [20 21 22 23]] \n",
      "\n",
      "[[12 13 14 15]\n",
      " [16 17 18 19]\n",
      " [20 21 22 23]\n",
      " [ 0  1  2  3]\n",
      " [ 4  5  6  7]\n",
      " [ 8  9 10 11]] \n",
      "\n"
     ]
    }
   ],
   "source": [
    "print(np.vstack((d,f)),'\\n')\n",
    "print(np.vstack((f,d)),'\\n')"
   ]
  },
  {
   "cell_type": "markdown",
   "id": "34f83233",
   "metadata": {},
   "source": [
    "## Random Number Generator using numpy"
   ]
  },
  {
   "cell_type": "code",
   "execution_count": 82,
   "id": "72bc7349",
   "metadata": {},
   "outputs": [
    {
     "name": "stdout",
     "output_type": "stream",
     "text": [
      "0.6875777367714818\n"
     ]
    }
   ],
   "source": [
    "from numpy import random\n",
    "x = random.rand()\n",
    "print(x)"
   ]
  },
  {
   "cell_type": "code",
   "execution_count": 83,
   "id": "d7c94b62",
   "metadata": {},
   "outputs": [
    {
     "name": "stdout",
     "output_type": "stream",
     "text": [
      "94\n"
     ]
    }
   ],
   "source": [
    "from numpy import random\n",
    "x = random.randint(100)\n",
    "print(x)"
   ]
  },
  {
   "cell_type": "code",
   "execution_count": 85,
   "id": "a558e682",
   "metadata": {},
   "outputs": [
    {
     "data": {
      "text/plain": [
       "array([51, 82, 46, 95, 76])"
      ]
     },
     "execution_count": 85,
     "metadata": {},
     "output_type": "execute_result"
    }
   ],
   "source": [
    "# Generating random  array\n",
    "x=random.randint(100,size=(5))\n",
    "x"
   ]
  },
  {
   "cell_type": "code",
   "execution_count": 86,
   "id": "6e237365",
   "metadata": {},
   "outputs": [
    {
     "data": {
      "text/plain": [
       "array([[22,  8,  8, 78, 41, 17, 84, 61, 65, 40],\n",
       "       [67, 81, 78, 72, 12, 64,  6, 66, 76, 29],\n",
       "       [43, 79, 11, 41, 68, 69, 79, 88, 18, 50],\n",
       "       [82, 47, 89, 68, 17, 48, 21, 98, 19, 27],\n",
       "       [64, 36,  0, 66, 35, 38, 23,  9, 13,  0]])"
      ]
     },
     "execution_count": 86,
     "metadata": {},
     "output_type": "execute_result"
    }
   ],
   "source": [
    "x=random.randint(100,size=(5,10))\n",
    "x"
   ]
  },
  {
   "cell_type": "code",
   "execution_count": null,
   "id": "08127b08",
   "metadata": {},
   "outputs": [],
   "source": []
  }
 ],
 "metadata": {
  "kernelspec": {
   "display_name": "Python 3 (ipykernel)",
   "language": "python",
   "name": "python3"
  },
  "language_info": {
   "codemirror_mode": {
    "name": "ipython",
    "version": 3
   },
   "file_extension": ".py",
   "mimetype": "text/x-python",
   "name": "python",
   "nbconvert_exporter": "python",
   "pygments_lexer": "ipython3",
   "version": "3.9.12"
  }
 },
 "nbformat": 4,
 "nbformat_minor": 5
}
